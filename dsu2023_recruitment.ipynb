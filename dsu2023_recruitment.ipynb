{
 "cells": [
  {
   "cell_type": "code",
   "execution_count": 1,
   "id": "1d4a2295-31de-4d4e-9a14-8b1149ed661f",
   "metadata": {},
   "outputs": [],
   "source": [
    "import pandas as pd\n",
    "df = pd.read_csv('Downloads/dsu_fall23_tech_app_dataset.csv')"
   ]
  },
  {
   "cell_type": "code",
   "execution_count": 10,
   "id": "dd2bfe6e-47a9-4592-91f7-339cf2e8c2ba",
   "metadata": {},
   "outputs": [
    {
     "name": "stdout",
     "output_type": "stream",
     "text": [
      "             Driver         Country  Has_Won_A_Championship  Total_Races  \\\n",
      "338  Lewis Hamilton  United Kingdom                    True        311.0   \n",
      "\n",
      "     Race_Wins                                            Seasons  \\\n",
      "338      103.0  2007, 2008, 2009, 2010, 2011, 2012, 2013, 2014...   \n",
      "\n",
      "     Pole_Positions  Total_Championships_Won  Race_Podiums  Decade  \n",
      "338           103.0                      7.0         191.0    2010  \n"
     ]
    }
   ],
   "source": [
    "#QUESTION 1\n",
    "df_sorted = df.nlargest(1, 'Race_Wins') #using nlargest to sort the dataframe, top most is the driver with the most race wins\n",
    "print(df_sorted) #printed out modified dataframe. "
   ]
  },
  {
   "cell_type": "code",
   "execution_count": 4,
   "id": "b8c0bda9",
   "metadata": {},
   "outputs": [
    {
     "name": "stdout",
     "output_type": "stream",
     "text": [
      "Country\n",
      "Argentina                      5\n",
      "Australia                      4\n",
      "Austria                        4\n",
      "Belgium                        0\n",
      "Belgium France                 0\n",
      "Brazil                         8\n",
      "Canada                         1\n",
      "Chile                          0\n",
      "China                          0\n",
      "Colombia                       0\n",
      "Czech Republic                 0\n",
      "Denmark                        0\n",
      "East Germany                   0\n",
      "East Germany, West Germany     0\n",
      "Finland                        4\n",
      "France                         4\n",
      "Germany                       12\n",
      "Hungary                        0\n",
      "India                          0\n",
      "Indonesia                      0\n",
      "Ireland                        0\n",
      "Italy                          3\n",
      "Japan                          0\n",
      "Liechtenstein                  0\n",
      "Malaysia                       0\n",
      "Mexico                         0\n",
      "Monaco                         0\n",
      "Monaco Netherlands             0\n",
      "Morocco                        0\n",
      "Netherlands                    2\n",
      "New Zealand                    1\n",
      "Poland                         0\n",
      "Portugal                       0\n",
      "RAF                            0\n",
      "Rhodesia                       0\n",
      "Rhodesia and Nyasaland         0\n",
      "Russia                         0\n",
      "South Africa                   1\n",
      "Spain                          2\n",
      "Sweden                         0\n",
      "Switzerland                    0\n",
      "Thailand                       0\n",
      "United Kingdom                20\n",
      "United States                  2\n",
      "Uruguay                        0\n",
      "Venezuela                      0\n",
      "West Germany                   0\n",
      "Name: Total_Championships_Won, dtype: int64\n"
     ]
    }
   ],
   "source": [
    "#QUESTION 2\n",
    "df_groupby = df.groupby(\"Country\")[\"Total_Championships_Won\"].sum()\n",
    "print(df_groupby)"
   ]
  },
  {
   "cell_type": "code",
   "execution_count": 7,
   "id": "cfbad495-58f6-4aed-b404-2e04de357c66",
   "metadata": {},
   "outputs": [
    {
     "name": "stdout",
     "output_type": "stream",
     "text": [
      "                Driver        Country  Has_Won_A_Championship  Total_Races  \\\n",
      "11  Juan Manuel Fangio      Argentina                    True           51   \n",
      "22      Alberto Ascari          Italy                    True           32   \n",
      "76       Bill Vukovich  United States                   False            5   \n",
      "\n",
      "    Race_Wins                                         Seasons  Pole_Positions  \\\n",
      "11         24  1950, 1951, 1953, 1954, 1955, 1956, 1957, 1958              29   \n",
      "22         13              1950, 1951, 1952, 1953, 1954, 1955              14   \n",
      "76          2                    1951, 1952, 1953, 1954, 1955               1   \n",
      "\n",
      "    Total_Championships_Won  Race_Podiums  Decade  winProportion  \n",
      "11                        5            35    1950       0.470588  \n",
      "22                        2            17    1950       0.406250  \n",
      "76                        0             2    1950       0.400000  \n"
     ]
    },
    {
     "name": "stderr",
     "output_type": "stream",
     "text": [
      "/var/folders/7n/8v96lj4x567f7j0y_8h6qmy40000gn/T/ipykernel_55020/2867351321.py:2: SettingWithCopyWarning: \n",
      "A value is trying to be set on a copy of a slice from a DataFrame.\n",
      "Try using .loc[row_indexer,col_indexer] = value instead\n",
      "\n",
      "See the caveats in the documentation: https://pandas.pydata.org/pandas-docs/stable/user_guide/indexing.html#returning-a-view-versus-a-copy\n",
      "  df_modified['winProportion'] = df_modified['Race_Wins'] / df_modified['Total_Races'] #calculating the proportion of races won by drivers that fit the 5 race parameter\n"
     ]
    }
   ],
   "source": [
    "#QUESTION 3\n",
    "df_modified = df[df['Total_Races'] >= 5] #Only keeps the drivers who have completed 5 races or more in a new dataframe\n",
    "df_modified['winProportion'] = df_modified['Race_Wins'] / df_modified['Total_Races'] #calculating the proportion of races won by drivers that fit the 5 race parameter\n",
    "df_modified_result = (df_modified.nlargest(3, 'winProportion')) #storing the top 3 racers that have the highest proportion\n",
    "print(df_modified_result) #showing the modified result. "
   ]
  },
  {
   "cell_type": "code",
   "execution_count": 8,
   "id": "20fd8dcf",
   "metadata": {},
   "outputs": [
    {
     "name": "stdout",
     "output_type": "stream",
     "text": [
      "                Driver         Country  Has_Won_A_Championship  Total_Races  \\\n",
      "1   Michael Schumacher         Germany                    True          306   \n",
      "6      Fernando Alonso           Spain                    True          356   \n",
      "15      Kimi Räikkönen         Finland                    True          349   \n",
      "27  Rubens Barrichello          Brazil                   False          322   \n",
      "18       Jenson Button  United Kingdom                    True          306   \n",
      "21         Graham Hill  United Kingdom                    True          176   \n",
      "43    Riccardo Patrese           Italy                   False          256   \n",
      "0       Lewis Hamilton  United Kingdom                    True          311   \n",
      "2     Sebastian Vettel         Germany                    True          299   \n",
      "19        Jack Brabham       Australia                    True          126   \n",
      "\n",
      "    Race_Wins                                            Seasons  \\\n",
      "1          91  1991, 1992, 1993, 1994, 1995, 1996, 1997, 1998...   \n",
      "6          32  2001, 2003, 2004, 2005, 2006, 2007, 2008, 2009...   \n",
      "15         21  2001, 2002, 2003, 2004, 2005, 2006, 2007, 2008...   \n",
      "27         11  1993, 1994, 1995, 1996, 1997, 1998, 1999, 2000...   \n",
      "18         15  2000, 2001, 2002, 2003, 2004, 2005, 2006, 2007...   \n",
      "21         14  1958, 1959, 1960, 1961, 1962, 1963, 1964, 1965...   \n",
      "43          6  1977, 1978, 1979, 1980, 1981, 1982, 1983, 1984...   \n",
      "0         103  2007, 2008, 2009, 2010, 2011, 2012, 2013, 2014...   \n",
      "2          53  2007, 2008, 2009, 2010, 2011, 2012, 2013, 2014...   \n",
      "19         14  1955, 1956, 1957, 1958, 1959, 1960, 1961, 1962...   \n",
      "\n",
      "    Pole_Positions  Total_Championships_Won  Race_Podiums  Decade  \\\n",
      "1               68                        7           155    2000   \n",
      "6               22                        2            99    2010   \n",
      "15              18                        1           103    2010   \n",
      "27              14                        0            68    2000   \n",
      "18               8                        1            50    2010   \n",
      "21              13                        2            36    1970   \n",
      "43               8                        0            37    1980   \n",
      "0              103                        7           191    2010   \n",
      "2               57                        4           122    2010   \n",
      "19              13                        3            31    1960   \n",
      "\n",
      "    season_count  \n",
      "1             19  \n",
      "6             19  \n",
      "15            19  \n",
      "27            19  \n",
      "18            18  \n",
      "21            18  \n",
      "43            17  \n",
      "0             16  \n",
      "2             16  \n",
      "19            16  \n"
     ]
    }
   ],
   "source": [
    "#QUESTION 4\n",
    "season_count = df['Seasons'].str.count(',') #counted the number of commas to indicate how many seasons a driver participated in.\n",
    "df['season_count'] = season_count + 1 #there will be an offset of 1 because i am counting commas, hence adding 1 extra to season count.\n",
    "print(df.nlargest(10, 'season_count')) #using nlargest to print top 10 racers that have participated in the most seasons."
   ]
  },
  {
   "cell_type": "code",
   "execution_count": 12,
   "id": "4c028f0f",
   "metadata": {},
   "outputs": [
    {
     "name": "stdout",
     "output_type": "stream",
     "text": [
      "Pole_Positions\n",
      "0       42\n",
      "1       32\n",
      "2       22\n",
      "3       33\n",
      "4       10\n",
      "5       17\n",
      "6       49\n",
      "7        6\n",
      "8       27\n",
      "10       6\n",
      "12      23\n",
      "13      63\n",
      "14      44\n",
      "16      27\n",
      "17      27\n",
      "18      45\n",
      "20      32\n",
      "21      36\n",
      "22      32\n",
      "24      48\n",
      "26      20\n",
      "29      24\n",
      "30      23\n",
      "32      31\n",
      "33      76\n",
      "57      53\n",
      "65      41\n",
      "68      91\n",
      "103    103\n",
      "Name: Race_Wins, dtype: int64\n"
     ]
    }
   ],
   "source": [
    "#CHALLENGE QUESTION 1:\n",
    "print(df.groupby('Pole_Positions')['Race_Wins'].sum())"
   ]
  },
  {
   "cell_type": "code",
   "execution_count": 11,
   "id": "460fcdd5",
   "metadata": {},
   "outputs": [
    {
     "name": "stdout",
     "output_type": "stream",
     "text": [
      "Pole_Positions\n",
      "0      0\n",
      "1      1\n",
      "2      0\n",
      "3      1\n",
      "4      1\n",
      "5      2\n",
      "6      4\n",
      "7      0\n",
      "8      2\n",
      "10     1\n",
      "12     0\n",
      "13     6\n",
      "14     3\n",
      "16     0\n",
      "17     3\n",
      "18     2\n",
      "20     1\n",
      "21     2\n",
      "22     2\n",
      "24     6\n",
      "26     2\n",
      "29     5\n",
      "30     1\n",
      "32     1\n",
      "33     6\n",
      "57     4\n",
      "65     3\n",
      "68     7\n",
      "103    7\n",
      "Name: Total_Championships_Won, dtype: int64\n"
     ]
    }
   ],
   "source": [
    "print(df.groupby('Pole_Positions')['Total_Championships_Won'].sum())"
   ]
  },
  {
   "cell_type": "code",
   "execution_count": 16,
   "id": "d83a7718",
   "metadata": {},
   "outputs": [
    {
     "name": "stdout",
     "output_type": "stream",
     "text": [
      "Decade\n",
      "1950     54\n",
      "1960     91\n",
      "1970     90\n",
      "1980    172\n",
      "1990    145\n",
      "2000    194\n",
      "2010    270\n",
      "2020     67\n",
      "Name: Race_Wins, dtype: int64\n"
     ]
    }
   ],
   "source": [
    "#QUESTION 2\n",
    "df_groupby = df.groupby(\"Decade\")[\"Race_Wins\"].sum()\n",
    "print(df_groupby)"
   ]
  },
  {
   "cell_type": "code",
   "execution_count": 17,
   "id": "fc4df60e",
   "metadata": {},
   "outputs": [
    {
     "name": "stdout",
     "output_type": "stream",
     "text": [
      "Decade\n",
      "1950     8\n",
      "1960     7\n",
      "1970     8\n",
      "1980    13\n",
      "1990     8\n",
      "2000    11\n",
      "2010    16\n",
      "2020     2\n",
      "Name: Total_Championships_Won, dtype: int64\n"
     ]
    }
   ],
   "source": [
    "df_groupby = df.groupby(\"Decade\")[\"Total_Championships_Won\"].sum()\n",
    "print(df_groupby)"
   ]
  },
  {
   "cell_type": "code",
   "execution_count": 18,
   "id": "7cb75ae1",
   "metadata": {},
   "outputs": [
    {
     "name": "stdout",
     "output_type": "stream",
     "text": [
      "Decade\n",
      "1950    143\n",
      "1960    296\n",
      "1970    278\n",
      "1980    548\n",
      "1990    394\n",
      "2000    577\n",
      "2010    743\n",
      "2020    282\n",
      "Name: Race_Podiums, dtype: int64\n"
     ]
    }
   ],
   "source": [
    "df_groupby = df.groupby(\"Decade\")[\"Race_Podiums\"].sum()\n",
    "print(df_groupby)"
   ]
  },
  {
   "cell_type": "code",
   "execution_count": 19,
   "id": "15eff2d8",
   "metadata": {},
   "outputs": [
    {
     "name": "stdout",
     "output_type": "stream",
     "text": [
      "Decade\n",
      "1950    191\n",
      "1960    236\n",
      "1970    102\n",
      "1980    122\n",
      "1990     83\n",
      "2000     50\n",
      "2010     47\n",
      "2020     37\n",
      "Name: Driver, dtype: int64\n"
     ]
    }
   ],
   "source": [
    "df_groupby = df.groupby(\"Decade\")[\"Driver\"].count()\n",
    "print(df_groupby)"
   ]
  },
  {
   "cell_type": "code",
   "execution_count": null,
   "id": "f386493d",
   "metadata": {},
   "outputs": [],
   "source": []
  }
 ],
 "metadata": {
  "kernelspec": {
   "display_name": "Python 3 (ipykernel)",
   "language": "python",
   "name": "python3"
  },
  "language_info": {
   "codemirror_mode": {
    "name": "ipython",
    "version": 3
   },
   "file_extension": ".py",
   "mimetype": "text/x-python",
   "name": "python",
   "nbconvert_exporter": "python",
   "pygments_lexer": "ipython3",
   "version": "3.9.12"
  }
 },
 "nbformat": 4,
 "nbformat_minor": 5
}
